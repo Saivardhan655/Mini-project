{
 "cells": [
  {
   "cell_type": "code",
   "execution_count": 16,
   "metadata": {},
   "outputs": [
    {
     "name": "stdout",
     "output_type": "stream",
     "text": [
      "Error downloading or processing video https://www.youtube.com/watch?v=hY_WBLs6ShA: Command '['youtube-dl', '--output', 'downloaded_videos\\\\abseiling\\\\video_0.mp4', '--format', 'mp4', '--quiet', '--no-warnings', '--no-playlist', '--no-check-certificate', '--postprocessor-args=--ss 16 -to 26', 'https://www.youtube.com/watch?v=hY_WBLs6ShA']' returned non-zero exit status 1.\n",
      "Error downloading or processing video https://www.youtube.com/watch?v=WVTRUmNU8rA: Command '['youtube-dl', '--output', 'downloaded_videos\\\\abseiling\\\\video_1.mp4', '--format', 'mp4', '--quiet', '--no-warnings', '--no-playlist', '--no-check-certificate', '--postprocessor-args=--ss 214 -to 224', 'https://www.youtube.com/watch?v=WVTRUmNU8rA']' returned non-zero exit status 1.\n",
      "Error downloading or processing video https://www.youtube.com/watch?v=TI7DfPMNBPM: Command '['youtube-dl', '--output', 'downloaded_videos\\\\abseiling\\\\video_2.mp4', '--format', 'mp4', '--quiet', '--no-warnings', '--no-playlist', '--no-check-certificate', '--postprocessor-args=--ss 21 -to 31', 'https://www.youtube.com/watch?v=TI7DfPMNBPM']' returned non-zero exit status 1.\n",
      "Error downloading or processing video https://www.youtube.com/watch?v=MpnTZgY650k: Command '['youtube-dl', '--output', 'downloaded_videos\\\\abseiling\\\\video_3.mp4', '--format', 'mp4', '--quiet', '--no-warnings', '--no-playlist', '--no-check-certificate', '--postprocessor-args=--ss 37 -to 47', 'https://www.youtube.com/watch?v=MpnTZgY650k']' returned non-zero exit status 1.\n"
     ]
    },
    {
     "ename": "KeyboardInterrupt",
     "evalue": "",
     "output_type": "error",
     "traceback": [
      "\u001b[1;31m---------------------------------------------------------------------------\u001b[0m",
      "\u001b[1;31mKeyboardInterrupt\u001b[0m                         Traceback (most recent call last)",
      "Cell \u001b[1;32mIn[16], line 47\u001b[0m\n\u001b[0;32m     44\u001b[0m output_filename \u001b[38;5;241m=\u001b[39m \u001b[38;5;124mf\u001b[39m\u001b[38;5;124m\"\u001b[39m\u001b[38;5;124mvideo_\u001b[39m\u001b[38;5;132;01m{\u001b[39;00mindex\u001b[38;5;132;01m}\u001b[39;00m\u001b[38;5;124m.mp4\u001b[39m\u001b[38;5;124m\"\u001b[39m\n\u001b[0;32m     45\u001b[0m output_path \u001b[38;5;241m=\u001b[39m os\u001b[38;5;241m.\u001b[39mpath\u001b[38;5;241m.\u001b[39mjoin(label_dir, output_filename)\n\u001b[1;32m---> 47\u001b[0m \u001b[43mdownload_video_segment\u001b[49m\u001b[43m(\u001b[49m\u001b[43mvideo_url\u001b[49m\u001b[43m,\u001b[49m\u001b[43m \u001b[49m\u001b[43mstart_time\u001b[49m\u001b[43m,\u001b[49m\u001b[43m \u001b[49m\u001b[43mend_time\u001b[49m\u001b[43m,\u001b[49m\u001b[43m \u001b[49m\u001b[43moutput_path\u001b[49m\u001b[43m)\u001b[49m\n",
      "Cell \u001b[1;32mIn[16], line 20\u001b[0m, in \u001b[0;36mdownload_video_segment\u001b[1;34m(video_url, start_time, end_time, output_path)\u001b[0m\n\u001b[0;32m     17\u001b[0m     command\u001b[38;5;241m.\u001b[39mappend(video_url)\n\u001b[0;32m     19\u001b[0m     \u001b[38;5;66;03m# Run youtube-dl command\u001b[39;00m\n\u001b[1;32m---> 20\u001b[0m     \u001b[43msubprocess\u001b[49m\u001b[38;5;241;43m.\u001b[39;49m\u001b[43mrun\u001b[49m\u001b[43m(\u001b[49m\u001b[43mcommand\u001b[49m\u001b[43m,\u001b[49m\u001b[43m \u001b[49m\u001b[43mcheck\u001b[49m\u001b[38;5;241;43m=\u001b[39;49m\u001b[38;5;28;43;01mTrue\u001b[39;49;00m\u001b[43m)\u001b[49m\n\u001b[0;32m     21\u001b[0m     \u001b[38;5;28mprint\u001b[39m(\u001b[38;5;124mf\u001b[39m\u001b[38;5;124m\"\u001b[39m\u001b[38;5;124mDownloaded video segment from \u001b[39m\u001b[38;5;132;01m{\u001b[39;00mstart_time\u001b[38;5;132;01m}\u001b[39;00m\u001b[38;5;124m to \u001b[39m\u001b[38;5;132;01m{\u001b[39;00mend_time\u001b[38;5;132;01m}\u001b[39;00m\u001b[38;5;124m seconds to \u001b[39m\u001b[38;5;132;01m{\u001b[39;00moutput_path\u001b[38;5;132;01m}\u001b[39;00m\u001b[38;5;124m\"\u001b[39m)\n\u001b[0;32m     22\u001b[0m \u001b[38;5;28;01mexcept\u001b[39;00m \u001b[38;5;167;01mException\u001b[39;00m \u001b[38;5;28;01mas\u001b[39;00m e:\n",
      "File \u001b[1;32mC:\\Program Files\\Python311\\Lib\\subprocess.py:550\u001b[0m, in \u001b[0;36mrun\u001b[1;34m(input, capture_output, timeout, check, *popenargs, **kwargs)\u001b[0m\n\u001b[0;32m    548\u001b[0m \u001b[38;5;28;01mwith\u001b[39;00m Popen(\u001b[38;5;241m*\u001b[39mpopenargs, \u001b[38;5;241m*\u001b[39m\u001b[38;5;241m*\u001b[39mkwargs) \u001b[38;5;28;01mas\u001b[39;00m process:\n\u001b[0;32m    549\u001b[0m     \u001b[38;5;28;01mtry\u001b[39;00m:\n\u001b[1;32m--> 550\u001b[0m         stdout, stderr \u001b[38;5;241m=\u001b[39m \u001b[43mprocess\u001b[49m\u001b[38;5;241;43m.\u001b[39;49m\u001b[43mcommunicate\u001b[49m\u001b[43m(\u001b[49m\u001b[38;5;28;43minput\u001b[39;49m\u001b[43m,\u001b[49m\u001b[43m \u001b[49m\u001b[43mtimeout\u001b[49m\u001b[38;5;241;43m=\u001b[39;49m\u001b[43mtimeout\u001b[49m\u001b[43m)\u001b[49m\n\u001b[0;32m    551\u001b[0m     \u001b[38;5;28;01mexcept\u001b[39;00m TimeoutExpired \u001b[38;5;28;01mas\u001b[39;00m exc:\n\u001b[0;32m    552\u001b[0m         process\u001b[38;5;241m.\u001b[39mkill()\n",
      "File \u001b[1;32mC:\\Program Files\\Python311\\Lib\\subprocess.py:1201\u001b[0m, in \u001b[0;36mPopen.communicate\u001b[1;34m(self, input, timeout)\u001b[0m\n\u001b[0;32m   1199\u001b[0m         stderr \u001b[38;5;241m=\u001b[39m \u001b[38;5;28mself\u001b[39m\u001b[38;5;241m.\u001b[39mstderr\u001b[38;5;241m.\u001b[39mread()\n\u001b[0;32m   1200\u001b[0m         \u001b[38;5;28mself\u001b[39m\u001b[38;5;241m.\u001b[39mstderr\u001b[38;5;241m.\u001b[39mclose()\n\u001b[1;32m-> 1201\u001b[0m     \u001b[38;5;28;43mself\u001b[39;49m\u001b[38;5;241;43m.\u001b[39;49m\u001b[43mwait\u001b[49m\u001b[43m(\u001b[49m\u001b[43m)\u001b[49m\n\u001b[0;32m   1202\u001b[0m \u001b[38;5;28;01melse\u001b[39;00m:\n\u001b[0;32m   1203\u001b[0m     \u001b[38;5;28;01mif\u001b[39;00m timeout \u001b[38;5;129;01mis\u001b[39;00m \u001b[38;5;129;01mnot\u001b[39;00m \u001b[38;5;28;01mNone\u001b[39;00m:\n",
      "File \u001b[1;32mC:\\Program Files\\Python311\\Lib\\subprocess.py:1264\u001b[0m, in \u001b[0;36mPopen.wait\u001b[1;34m(self, timeout)\u001b[0m\n\u001b[0;32m   1262\u001b[0m     endtime \u001b[38;5;241m=\u001b[39m _time() \u001b[38;5;241m+\u001b[39m timeout\n\u001b[0;32m   1263\u001b[0m \u001b[38;5;28;01mtry\u001b[39;00m:\n\u001b[1;32m-> 1264\u001b[0m     \u001b[38;5;28;01mreturn\u001b[39;00m \u001b[38;5;28;43mself\u001b[39;49m\u001b[38;5;241;43m.\u001b[39;49m\u001b[43m_wait\u001b[49m\u001b[43m(\u001b[49m\u001b[43mtimeout\u001b[49m\u001b[38;5;241;43m=\u001b[39;49m\u001b[43mtimeout\u001b[49m\u001b[43m)\u001b[49m\n\u001b[0;32m   1265\u001b[0m \u001b[38;5;28;01mexcept\u001b[39;00m \u001b[38;5;167;01mKeyboardInterrupt\u001b[39;00m:\n\u001b[0;32m   1266\u001b[0m     \u001b[38;5;66;03m# https://bugs.python.org/issue25942\u001b[39;00m\n\u001b[0;32m   1267\u001b[0m     \u001b[38;5;66;03m# The first keyboard interrupt waits briefly for the child to\u001b[39;00m\n\u001b[0;32m   1268\u001b[0m     \u001b[38;5;66;03m# exit under the common assumption that it also received the ^C\u001b[39;00m\n\u001b[0;32m   1269\u001b[0m     \u001b[38;5;66;03m# generated SIGINT and will exit rapidly.\u001b[39;00m\n\u001b[0;32m   1270\u001b[0m     \u001b[38;5;28;01mif\u001b[39;00m timeout \u001b[38;5;129;01mis\u001b[39;00m \u001b[38;5;129;01mnot\u001b[39;00m \u001b[38;5;28;01mNone\u001b[39;00m:\n",
      "File \u001b[1;32mC:\\Program Files\\Python311\\Lib\\subprocess.py:1588\u001b[0m, in \u001b[0;36mPopen._wait\u001b[1;34m(self, timeout)\u001b[0m\n\u001b[0;32m   1585\u001b[0m     timeout_millis \u001b[38;5;241m=\u001b[39m \u001b[38;5;28mint\u001b[39m(timeout \u001b[38;5;241m*\u001b[39m \u001b[38;5;241m1000\u001b[39m)\n\u001b[0;32m   1586\u001b[0m \u001b[38;5;28;01mif\u001b[39;00m \u001b[38;5;28mself\u001b[39m\u001b[38;5;241m.\u001b[39mreturncode \u001b[38;5;129;01mis\u001b[39;00m \u001b[38;5;28;01mNone\u001b[39;00m:\n\u001b[0;32m   1587\u001b[0m     \u001b[38;5;66;03m# API note: Returns immediately if timeout_millis == 0.\u001b[39;00m\n\u001b[1;32m-> 1588\u001b[0m     result \u001b[38;5;241m=\u001b[39m _winapi\u001b[38;5;241m.\u001b[39mWaitForSingleObject(\u001b[38;5;28mself\u001b[39m\u001b[38;5;241m.\u001b[39m_handle,\n\u001b[0;32m   1589\u001b[0m                                          timeout_millis)\n\u001b[0;32m   1590\u001b[0m     \u001b[38;5;28;01mif\u001b[39;00m result \u001b[38;5;241m==\u001b[39m _winapi\u001b[38;5;241m.\u001b[39mWAIT_TIMEOUT:\n\u001b[0;32m   1591\u001b[0m         \u001b[38;5;28;01mraise\u001b[39;00m TimeoutExpired(\u001b[38;5;28mself\u001b[39m\u001b[38;5;241m.\u001b[39margs, timeout)\n",
      "\u001b[1;31mKeyboardInterrupt\u001b[0m: "
     ]
    }
   ],
   "source": [
    "import os\n",
    "import pandas as pd\n",
    "import subprocess\n",
    "\n",
    "def download_video_segment(video_url, start_time, end_time, output_path):\n",
    "    try:\n",
    "        command = [\n",
    "            'youtube-dl',\n",
    "            '--output', output_path,\n",
    "            '--format', 'mp4',\n",
    "            '--quiet',\n",
    "            '--no-warnings',\n",
    "            '--no-playlist',\n",
    "            '--no-check-certificate',\n",
    "            f'--postprocessor-args=--ss {start_time} -to {end_time}'  # Specify start and end time\n",
    "        ]\n",
    "        command.append(video_url)\n",
    "\n",
    "        # Run youtube-dl command\n",
    "        subprocess.run(command, check=True)\n",
    "        print(f\"Downloaded video segment from {start_time} to {end_time} seconds to {output_path}\")\n",
    "    except Exception as e:\n",
    "        print(f\"Error downloading or processing video {video_url}: {str(e)}\")\n",
    "\n",
    "# Load dataset containing video information\n",
    "dataset = pd.read_csv(r\"C:\\Users\\Medha Trust\\Desktop\\Mini_Project\\Mini-project\\Dataset\\val.csv\")\n",
    "\n",
    "# Directory to save downloaded video segments\n",
    "download_dir = \"downloaded_videos\"\n",
    "os.makedirs(download_dir, exist_ok=True)\n",
    "\n",
    "# Iterate through the dataset and download video segments\n",
    "for index, row in dataset.iterrows():\n",
    "    video_id = row['youtube_id']\n",
    "    video_url=f\"https://www.youtube.com/watch?v={video_id}\"\n",
    "    start_time = row['time_start']\n",
    "    end_time = row['time_end']\n",
    "    label = row['label']\n",
    "    \n",
    "    # Create a subdirectory for the label if it doesn't exist\n",
    "    label_dir = os.path.join(download_dir, label)\n",
    "    os.makedirs(label_dir, exist_ok=True)\n",
    "    \n",
    "    output_filename = f\"video_{index}.mp4\"\n",
    "    output_path = os.path.join(label_dir, output_filename)\n",
    "    \n",
    "    download_video_segment(video_url, start_time, end_time, output_path)\n"
   ]
  },
  {
   "cell_type": "code",
   "execution_count": null,
   "metadata": {},
   "outputs": [],
   "source": [
    "video_id = row['youtube_id']\n",
    "    video_url=f\"https://www.youtube.com/watch?v={video_id}\"\n",
    "    start_time = row['time_start']\n",
    "    end_time = row['time_end']\n",
    "    label = row['label']\n",
    "    "
   ]
  }
 ],
 "metadata": {
  "kernelspec": {
   "display_name": "MP",
   "language": "python",
   "name": "python3"
  },
  "language_info": {
   "codemirror_mode": {
    "name": "ipython",
    "version": 3
   },
   "file_extension": ".py",
   "mimetype": "text/x-python",
   "name": "python",
   "nbconvert_exporter": "python",
   "pygments_lexer": "ipython3",
   "version": "3.11.4"
  }
 },
 "nbformat": 4,
 "nbformat_minor": 2
}
